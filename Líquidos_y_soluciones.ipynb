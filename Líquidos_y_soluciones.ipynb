{
  "nbformat": 4,
  "nbformat_minor": 0,
  "metadata": {
    "colab": {
      "provenance": [],
      "authorship_tag": "ABX9TyMAtsh7aLWcAUZTzEKrnzRy",
      "include_colab_link": true
    },
    "kernelspec": {
      "name": "python3",
      "display_name": "Python 3"
    },
    "language_info": {
      "name": "python"
    }
  },
  "cells": [
    {
      "cell_type": "markdown",
      "metadata": {
        "id": "view-in-github",
        "colab_type": "text"
      },
      "source": [
        "<a href=\"https://colab.research.google.com/github/Christian280800/PracticasDeQuimica/blob/main/L%C3%ADquidos_y_soluciones.ipynb\" target=\"_parent\"><img src=\"https://colab.research.google.com/assets/colab-badge.svg\" alt=\"Open In Colab\"/></a>"
      ]
    },
    {
      "cell_type": "markdown",
      "source": [
        "### **FUERZAS INTERMOLECULARES**"
      ],
      "metadata": {
        "id": "11Bs5Gf0yze6"
      }
    },
    {
      "cell_type": "markdown",
      "source": [
        "1. Explique la diferencia entre un momento dipolar permanente y un momento dipolar temporal."
      ],
      "metadata": {
        "id": "b5q6jlOIzGUR"
      }
    },
    {
      "cell_type": "markdown",
      "source": [
        "La diferencia principal entre un momento dipolar temporal y uno permanente es que el primero es transitorio y cambia con el tiempo debido a vibraciones moleculares, mientras que el segundo es constante y se debe a una asimetría estructural en la distribución de cargas de la molécula, persistiendo en el tiempo, como en el caso del agua (H2O) con una carga positiva parcial en el hidrógeno y una carga negativa parcial en el oxígeno constante."
      ],
      "metadata": {
        "id": "pBkBrQdZzZMj"
      }
    },
    {
      "cell_type": "markdown",
      "source": [
        "2. ¿Qué propiedades físicas se deberían considerar al comparar la intensidad de las fuerzas intermoleculares en los sólidos y líquidos?"
      ],
      "metadata": {
        "id": "mxvvSArA0Dv7"
      }
    },
    {
      "cell_type": "markdown",
      "source": [
        "Para comparar la intensidad de las fuerzas intermoleculares en sólidos y líquidos, se deben considerar propiedades como el punto de fusión, la entalpía de fusión, la viscosidad, la tensión superficial y la solubilidad. Estas propiedades reflejan cómo las fuerzas intermoleculares afectan el comportamiento de las sustancias en estado sólido y líquido. Por ejemplo, sólidos con fuerzas intermoleculares más fuertes tienden a tener puntos de fusión más altos y requieren más energía para fundirse, mientras que líquidos con fuerzas intermoleculares más fuertes tienden a ser más viscosos y tener una mayor tensión superficial."
      ],
      "metadata": {
        "id": "PinrGgd_5eHQ"
      }
    },
    {
      "cell_type": "markdown",
      "source": [
        "3. Mencione alguna evidencia de que todos los átomos y moléculas ejercen fuerzas de atracción entre sí."
      ],
      "metadata": {
        "id": "cXAXC4KN58Qf"
      }
    },
    {
      "cell_type": "markdown",
      "source": [
        "La evidencia de que todos los átomos y moléculas ejercen fuerzas de atracción entre sí se encuentra en la existencia y estabilidad de las fases condensadas de la materia, como sólidos y líquidos, donde las partículas están unidas por fuerzas intermoleculares, lo que impide que se separen por completo. Esto demuestra que las fuerzas de atracción son una característica común a todas las partículas, desde los átomos más pequeños hasta las moléculas más grandes."
      ],
      "metadata": {
        "id": "gbpGnXa16MHV"
      }
    },
    {
      "cell_type": "markdown",
      "source": [
        "4. ¿Cuáles elementos pueden participar en los enlaces de hidrógeno? ¿Por qué el hidrógeno es único en este tipo de interacción?"
      ],
      "metadata": {
        "id": "W8qFoo0N6Zmw"
      }
    },
    {
      "cell_type": "markdown",
      "source": [
        "Los enlaces de hidrógeno son interacciones débiles pero importantes que involucran elementos con alta electronegatividad, como el oxígeno, el nitrógeno y el flúor, que tienen la capacidad de atraer electrones y generar cargas parciales. Estos elementos son únicos en la formación de enlaces de hidrógeno debido a su alta electronegatividad, tamaño atómico reducido y disponibilidad de pares de electrones no enlazantes.\n",
        "\n",
        "El hidrógeno es único en la formación de estos enlaces debido a su pequeño tamaño y polaridad"
      ],
      "metadata": {
        "id": "DxPdVVPF6p8t"
      }
    },
    {
      "cell_type": "markdown",
      "source": [
        "5. Si viviera en Alaska, ¿cuál de los siguientes gases naturales almacenaría en un tanque a la intemperie durante el invierno: metano, propano o butano? Justifique su respuesta."
      ],
      "metadata": {
        "id": "4atE4s467izd"
      }
    },
    {
      "cell_type": "markdown",
      "source": [
        "El metano tiene un punto de congelación alrededor de -182 grados Celsius y un punto de ebullición de -161 grados Celsius. Esto significa que se solidificaría en Alaska.\n",
        "El propano tiene un punto de congelación alrededor de -188 grados Celsius y un punto de ebullición de -42 grados Celsius. Esto significa que es menos propenso a solidificarse a temperaturas tan bajas como en Alaska.\n",
        "El butano tiene un punto de congelación alrededor de -138 grados Celsius y un punto de ebullición de 0 grados Celsius. Es decir, se puede congelar en la temperatura de Alaska.\n",
        "Finalmente,  el propano se presenta como la elección más adecuada, ya que tiene un punto de congelación más bajo en comparación con el metano y el butano, lo que lo hace menos propenso a solidificarse en las bajas temperaturas invernales de la región."
      ],
      "metadata": {
        "id": "nTL8OCgY70mG"
      }
    },
    {
      "cell_type": "markdown",
      "source": [
        "\n",
        "\n",
        "---\n",
        "\n"
      ],
      "metadata": {
        "id": "0NbYhPOv-Crs"
      }
    },
    {
      "cell_type": "markdown",
      "source": [
        "### **PROPIEDADES DE LOS LÍQUIDOS**"
      ],
      "metadata": {
        "id": "YuLXEPHo99fU"
      }
    },
    {
      "cell_type": "markdown",
      "source": [
        "1. Utilice agua y mercurio como ejemplos para explicar la adhesión y cohesión.\n",
        "\n"
      ],
      "metadata": {
        "id": "WUhBH-Ek-OGH"
      }
    },
    {
      "cell_type": "markdown",
      "source": [
        "\n",
        "El agua ejemplifica la adhesión debido a su tendencia a mojar superficies y formar gotas en contacto con ellas, gracias a las fuerzas de enlace de hidrógeno. También demuestra la cohesión, ya que las moléculas de agua se atraen entre sí y forman gotas en lugar de dispersarse. Por otro lado, el mercurio ilustra la baja adhesión al formar gotas casi esféricas cuando se vierte en un recipiente y la alta cohesión debido a las interacciones entre sus átomos."
      ],
      "metadata": {
        "id": "wTiN2wcP-VNz"
      }
    },
    {
      "cell_type": "markdown",
      "source": [
        "2. A pesar de que el acero inoxidable es mucho más denso que el agua, una navaja de afeitar de acero inoxidable puede flotar en el agua, ¿por qué?"
      ],
      "metadata": {
        "id": "oQw9tkx4-zvT"
      }
    },
    {
      "cell_type": "markdown",
      "source": [
        "Una navaja de afeitar de acero inoxidable puede flotar en el agua a pesar de ser más denso que el agua debido a su forma que atrapa aire en su interior, generando una fuerza de flotación que supera su peso. Esto se basa en el principio de flotación de Arquímedes, donde un objeto flotará si el peso del agua desplazada es igual o mayor que su propio peso."
      ],
      "metadata": {
        "id": "PFl_ODiD-8L1"
      }
    },
    {
      "cell_type": "markdown",
      "source": [
        "3. Un vaso se puede llenar con agua justo por encima del borde. ¿Por qué el agua no se derrama?"
      ],
      "metadata": {
        "id": "gopWyGj5_K66"
      }
    },
    {
      "cell_type": "markdown",
      "source": [
        "Cuando llenas un vaso con agua justo por encima del borde, el agua no se derrama debido a la tensión superficial del agua y la cohesión entre sus moléculas. La tensión superficial crea una \"piel\" elástica en la superficie del agua que evita el derrame inmediato. Esta propiedad permite llenar el vaso ligeramente más allá del borde, aunque tiene un límite, ya que si se agrega más agua, eventualmente se derramará."
      ],
      "metadata": {
        "id": "_v1cHcZD_ZKZ"
      }
    },
    {
      "cell_type": "markdown",
      "source": [
        "4. ¿Por qué la viscosidad de un líquido disminuye con el aumento en su temperatura?"
      ],
      "metadata": {
        "id": "vER69TH1_fml"
      }
    },
    {
      "cell_type": "markdown",
      "source": [
        "A medida que aumenta la temperatura de un líquido, las partículas ganan más energía cinética, lo que reduce las fuerzas intermoleculares y la cohesión entre las partículas. Como resultado, el líquido se vuelve menos viscoso y fluye con mayor facilidad."
      ],
      "metadata": {
        "id": "gvbf0zOi_lZ7"
      }
    },
    {
      "cell_type": "markdown",
      "source": [
        "\n",
        "\n",
        "---\n",
        "\n"
      ],
      "metadata": {
        "id": "jA16QT94__9O"
      }
    },
    {
      "cell_type": "markdown",
      "source": [
        "### **SOLUCIONES**"
      ],
      "metadata": {
        "id": "83c_tT41P1er"
      }
    },
    {
      "cell_type": "markdown",
      "source": [
        "1. Describa brevemente el proceso de disolución a nivel molecular. Utilice como ejemplo la disolución de un sólido en un líquido."
      ],
      "metadata": {
        "id": "Ka4bJdxFP6jP"
      }
    },
    {
      "cell_type": "markdown",
      "source": [
        "El proceso de disolución a nivel molecular implica la separación de las partículas del sólido en el líquido debido a interacciones moleculares, como los enlaces de hidrógeno en el caso del agua. Esto conduce a la formación de una solución homogénea donde las partículas del soluto se dispersan en el disolvente, permitiendo su mezcla uniforme."
      ],
      "metadata": {
        "id": "SBrhjujqQLKd"
      }
    },
    {
      "cell_type": "markdown",
      "source": [
        "2. Explique por qué el proceso de disolución invariablemente conduce a un aumento en el desorden."
      ],
      "metadata": {
        "id": "NHKZSkp_QOfO"
      }
    },
    {
      "cell_type": "markdown",
      "source": [
        "El proceso de disolución inevitablemente conduce a un aumento en el desorden debido a la Segunda Ley de la Termodinámica. Cuando un soluto se disuelve en un disolvente, las partículas del soluto se distribuyen de manera más uniforme en el sistema, lo que resulta en una mayor aleatoriedad en la posición de las partículas. Esto aumenta la entropía, que es una medida del desorden o la aleatoriedad de un sistema, ya que hay más configuraciones posibles y un mayor movimiento térmico de las partículas. Este aumento en el desorden es una característica común en procesos naturales."
      ],
      "metadata": {
        "id": "vuj0WglgQkyS"
      }
    },
    {
      "cell_type": "markdown",
      "source": [
        "3. Describa los factores que afectan la solubilidad de un sólido en un líquido. ¿Qué significa decir que dos líquidos son miscibles?"
      ],
      "metadata": {
        "id": "qle1bEjyQn_1"
      }
    },
    {
      "cell_type": "markdown",
      "source": [
        "La solubilidad de un sólido en un líquido se ve afectada por factores como la naturaleza química de las sustancias, la temperatura, la presión (en el caso de gases disueltos), la agitación y el tamaño de las partículas del soluto. Dos líquidos son miscibles cuando se pueden mezclar en cualquier proporción, lo que significa que las moléculas de ambos líquidos se dispersan de manera compatible y forman una única fase homogénea. Por ejemplo, el agua y el alcohol etílico son líquidos miscibles, mientras que el agua y el aceite son inmiscibles y forman fases separadas."
      ],
      "metadata": {
        "id": "oWUYXGEbQvZH"
      }
    },
    {
      "cell_type": "markdown",
      "source": [
        "4. Explique por qué el etanol no es soluble en ciclohexano."
      ],
      "metadata": {
        "id": "hh0EwV8HREe7"
      }
    },
    {
      "cell_type": "markdown",
      "source": [
        "El etanol no es soluble en ciclohexano debido a las diferencias en polaridad y en las interacciones intermoleculares. El etanol es polar y forma puentes de hidrógeno, mientras que el ciclohexano es apolar y carece de cargas parciales, lo que impide la interacción efectiva entre las dos sustancias y resulta en su falta de solubilidad mutua."
      ],
      "metadata": {
        "id": "pGwox-DrRRjH"
      }
    },
    {
      "cell_type": "markdown",
      "source": [
        "\n",
        "\n",
        "---\n",
        "\n"
      ],
      "metadata": {
        "id": "VXM4YNfSP5Rs"
      }
    },
    {
      "cell_type": "markdown",
      "source": [
        "### **UNIDADES DE CONCENTRACIÓN**"
      ],
      "metadata": {
        "id": "D0Dz_pau_8f5"
      }
    },
    {
      "cell_type": "markdown",
      "source": [
        "1. Calcule el porcentaje en masa de soluto en cada una de las siguiente disoluciones acuosas: *a)* 5.50 g de NaBr en 78.2 g de disolución, *b)* 31.0 g de KCL en 152 g de agua, *c)* 4.5 g de tolueno en 29 g de benceno."
      ],
      "metadata": {
        "id": "LQrDr8b-COLc"
      }
    },
    {
      "cell_type": "code",
      "source": [
        "#a) 5.50 g de NaBr en 78.2 g de disolución\n",
        "\n",
        "NaBr = 5.5\n",
        "Masa_total_a = 5.5 + 78.2\n",
        "\n",
        "porcentaje_a = (NaBr / Masa_total_a)*100\n",
        "\n",
        "porcentaje_a_red = round(porcentaje_a,2)\n",
        "\n",
        "print(f'El porcentaje en masa de a es {porcentaje_a_red}')\n",
        "\n",
        "#b) 31.0 g de KCL en 152 g de agua\n",
        "\n",
        "KCL = 31\n",
        "Masa_total_b = 31 + 152\n",
        "\n",
        "porcentaje_b = (KCL / Masa_total_b)*100\n",
        "\n",
        "porcentaje_b_red = round(porcentaje_b,2)\n",
        "\n",
        "print(f'El porcentaje en masa de b es {porcentaje_b_red}')\n",
        "\n",
        "#c)4.5 g de tolueno en 29 g de benceno\n",
        "\n",
        "tolueno = 4.5\n",
        "Masa_total_c = 4.5 + 29\n",
        "\n",
        "porcentaje_c = (tolueno / Masa_total_c)*100\n",
        "\n",
        "porcentaje_c_red = round(porcentaje_c,2)\n",
        "\n",
        "print(f'El porcentaje en masa de c es {porcentaje_c_red}')"
      ],
      "metadata": {
        "colab": {
          "base_uri": "https://localhost:8080/"
        },
        "id": "8zKIObR7Cj4f",
        "outputId": "c88a97ed-3f20-48f6-f6a8-d26545edd8d6"
      },
      "execution_count": null,
      "outputs": [
        {
          "output_type": "stream",
          "name": "stdout",
          "text": [
            "El porcentaje en masa de a es 6.57\n",
            "El porcentaje en masa de b es 16.94\n",
            "El porcentaje en masa de c es 13.43\n"
          ]
        }
      ]
    },
    {
      "cell_type": "markdown",
      "source": [
        "2. Calcule la molalidad de cada una de las siguientes disoluciones acuosas: *a)* disolución de NaCl 2.50 M (densidad de disolución = 1.08 g/mL), *b)* disolución de KBr al 48.2 % en masa."
      ],
      "metadata": {
        "id": "XXUjlf5GMqhG"
      }
    },
    {
      "cell_type": "code",
      "source": [
        "#a) disolución de NaCl 2.50 M (densidad de disolución = 1.08 g/mL)\n",
        "\n",
        "nro_moles_a = 2.5\n",
        "\n",
        "densidad = 1080\n",
        "volumen = 1\n",
        "\n",
        "masa_a = densidad * volumen\n",
        "\n",
        "molalidad_a = nro_moles_a / (masa_a / 1000)\n",
        "\n",
        "molalidad_a_red = round(molalidad_a,2)\n",
        "\n",
        "print(f'La molalidad en a es {molalidad_a_red}')\n",
        "\n",
        "#b) disolución de KBr al 48.2 % en masa.\n",
        "\n",
        "Masa_disolucion = 100\n",
        "Masa_KBR = 48.2\n",
        "\n",
        "Masa_disolvente_b = Masa_disolucion - Masa_KBR\n",
        "\n",
        "Molalidad_b = Masa_KBR / (Masa_disolvente_b / 1000)\n",
        "\n",
        "Molalidad_b_red = round(Molalidad_b,2)\n",
        "\n",
        "print(f'La molalidad en b es {Molalidad_b_red}')"
      ],
      "metadata": {
        "colab": {
          "base_uri": "https://localhost:8080/"
        },
        "id": "w9VH4T5LNAOa",
        "outputId": "dfc18761-f32c-4eb7-a0f8-8090a8c2e5cc"
      },
      "execution_count": null,
      "outputs": [
        {
          "output_type": "stream",
          "name": "stdout",
          "text": [
            "La molalidad en a es 2.31\n",
            "La molalidad en b es 930.5\n"
          ]
        }
      ]
    },
    {
      "cell_type": "markdown",
      "source": [
        "3. Calcule la molalidad de cada una de las siguientes disoluciones: *a)* 14.3 g de sacarosa en 676 g de agua, *b)* 7.20 moles de etilenglicol en 3546 g de agua."
      ],
      "metadata": {
        "id": "lh-lv8_YdHDl"
      }
    },
    {
      "cell_type": "code",
      "source": [
        "#a)14.3 g de sacarosa en 676 g de agua\n",
        "\n",
        "Masa_molar_sacarosa = 342\n",
        "Gramos_sacarosa = 14.3\n",
        "\n",
        "moles_sacarosa = Gramos_sacarosa / Masa_molar_sacarosa\n",
        "\n",
        "Molalidad_a = moles_sacarosa / (676/1000)\n",
        "\n",
        "Molalidad_a_red = round(Molalidad_a,2)\n",
        "\n",
        "print(f'La molalidad en a es {Molalidad_a_red}')\n",
        "\n",
        "#b) 7.20 moles de etilenglicol en 3546 g de agua.\n",
        "\n",
        "moles_eti = 7.2\n",
        "masa_agua_kg = 3546 / 1000\n",
        "\n",
        "Molalidad_b = moles_eti / (masa_agua_kg)\n",
        "\n",
        "Molalidad_b_red = round(Molalidad_b,2)\n",
        "\n",
        "print(f'La molalidad en b es {Molalidad_b_red}')"
      ],
      "metadata": {
        "colab": {
          "base_uri": "https://localhost:8080/"
        },
        "id": "-tiYOWLsdWGa",
        "outputId": "4576306e-355d-493a-b71a-cc82c33f514b"
      },
      "execution_count": null,
      "outputs": [
        {
          "output_type": "stream",
          "name": "stdout",
          "text": [
            "La molalidad en a es 0.06\n",
            "La molalidad en b es 2.03\n"
          ]
        }
      ]
    },
    {
      "cell_type": "markdown",
      "source": [
        "4. Calcule la cantidad de agua (en gramos) que se debe agregar a: *a)* 5.00 g de urea para preparar una disolución al 16.2% en masa y *b)* 26.2 g de MgCl2 para preparar una disolución al 1.5% en masa."
      ],
      "metadata": {
        "id": "kfUSeYgUfVbW"
      }
    },
    {
      "cell_type": "code",
      "source": [
        "#a) 5.00 g de urea para preparar una disolución al 16.2% en masa\n",
        "\n",
        "masa_soluto_a = 5\n",
        "porcentaje_decimal_a = 16.2 / 100\n",
        "\n",
        "masa_agua_a = (masa_soluto_a / porcentaje_decimal_a) - masa_soluto_a\n",
        "\n",
        "masa_agua_a_red = round(masa_agua_a,2)\n",
        "\n",
        "print(f'En a, se debe agregar {masa_agua_a_red} g de agua')\n",
        "\n",
        "#b)26.2 g de MgCl2 para preparar una disolución al 1.5% en masa.\n",
        "\n",
        "masa_soluto_b = 26.2\n",
        "porcentaje_decimal_b = 1.5 / 100\n",
        "\n",
        "masa_agua_b = (masa_soluto_b / porcentaje_decimal_b) - masa_soluto_b\n",
        "\n",
        "masa_agua_b_red = round(masa_agua_b,2)\n",
        "\n",
        "print(f'En b, se debe agregar {masa_agua_b_red} g de agua')"
      ],
      "metadata": {
        "colab": {
          "base_uri": "https://localhost:8080/"
        },
        "id": "HnrU4gFSgQzB",
        "outputId": "4d0d46b3-7193-4b7c-c0c4-1449f6d520f8"
      },
      "execution_count": null,
      "outputs": [
        {
          "output_type": "stream",
          "name": "stdout",
          "text": [
            "En a, se debe agregar 25.86 g de agua\n",
            "En b, se debe agregar 1720.47 g de agua\n"
          ]
        }
      ]
    },
    {
      "cell_type": "markdown",
      "source": [
        "5. Calcule la molalidad de cada una de las siguientes disoluciones acuosas: *a)* disolución de azúcar 1.22 M (densidad de la disolución = 1.12 g/mL), *b)* disolución de NaOH 0.87 M (densidad de la disolución = 1.04 g/mL), *c)* disolución de NaHCO3 5.24 M (densidad de la disolución = 1.19 g/mL)."
      ],
      "metadata": {
        "id": "IMLYAJS_9vV1"
      }
    },
    {
      "cell_type": "code",
      "source": [
        "# a) disolución de azúcar 1.22 M (densidad de la disolución = 1.12 g/mL\n",
        "\n",
        "densidad_disolvente_kg_l_a = 1.12\n",
        "molaridad_a = 1.22\n",
        "\n",
        "molalidad_a = molaridad_a / densidad_disolvente_kg_l_a\n",
        "\n",
        "molalidad_a_red = round(molalidad_a,2)\n",
        "\n",
        "print(f'La molalidad en a es {molalidad_a_red}')\n",
        "\n",
        "# b) disolución de NaOH 0.87 M (densidad de la disolución = 1.04 g/mL\n",
        "\n",
        "densidad_disolvente_kg_l_b = 1.04\n",
        "molaridad_b = 0.87\n",
        "\n",
        "molalidad_b = molaridad_b / densidad_disolvente_kg_l_b\n",
        "\n",
        "molalidad_b_red = round(molalidad_b,2)\n",
        "\n",
        "print(f'La molalidad en b es {molalidad_b_red}')\n",
        "\n",
        "# c) disolución de NaHCO3 5.24 M (densidad de la disolución = 1.19 g/mL)\n",
        "\n",
        "densidad_disolvente_kg_l_c = 1.19\n",
        "molaridad_c = 5.24\n",
        "\n",
        "molalidad_c = molaridad_c / densidad_disolvente_kg_l_c\n",
        "\n",
        "molalidad_c_red = round(molalidad_c,2)\n",
        "\n",
        "print(f'La molalidad en c es {molalidad_c_red}')"
      ],
      "metadata": {
        "colab": {
          "base_uri": "https://localhost:8080/"
        },
        "id": "9rhdyh3v-Xze",
        "outputId": "c5a11db8-e168-49d4-80c1-dbef805bb166"
      },
      "execution_count": 1,
      "outputs": [
        {
          "output_type": "stream",
          "name": "stdout",
          "text": [
            "La molalidad en a es 1.09\n",
            "La molalidad en b es 0.84\n",
            "La molalidad en c es 4.4\n"
          ]
        }
      ]
    },
    {
      "cell_type": "markdown",
      "source": [
        "6. El ácido sulfúrico concentrado que se utiliza en el laboratorio es H2SO4 al 98% en masa. Calcule la molalidad y molaridad de la disolución ácida. La densidad de la disolución es de 1.83 g/mL."
      ],
      "metadata": {
        "id": "46lx4GsQAhMZ"
      }
    },
    {
      "cell_type": "code",
      "source": [
        "# en 100g de disolución, hay un 98% de H2SO4, es decir, 98g de H2SO4\n",
        "\n",
        "masa_H2SO4 = 98\n",
        "masa_molar_H2SO4 = 98\n",
        "\n",
        "n_moles_H2SO4 = masa_H2SO4 / masa_molar_H2SO4\n",
        "\n",
        "densidad_disolvente_Kg_L = 1.83\n",
        "\n",
        "molalidad = n_moles_H2SO4 / densidad_disolvente_Kg_L\n",
        "molalidad_red = round(molalidad,2)\n",
        "\n",
        "densidad_disolvente_g_L = 1830\n",
        "\n",
        "volumen_disolucion = 100 / densidad_disolvente_g_L\n",
        "\n",
        "molaridad = n_moles_H2SO4 / volumen_disolucion\n",
        "molaridad_red = round(molaridad,2)\n",
        "\n",
        "print(f'La molalidad es {molalidad_red}')\n",
        "print(f'La molaridad es {molaridad_red}')\n"
      ],
      "metadata": {
        "colab": {
          "base_uri": "https://localhost:8080/"
        },
        "id": "fj9HgicYBKgg",
        "outputId": "d376780d-e0e8-4d70-860b-462bb6b051b8"
      },
      "execution_count": 3,
      "outputs": [
        {
          "output_type": "stream",
          "name": "stdout",
          "text": [
            "La molalidad es 0.55\n",
            "La molaridad es 18.3\n"
          ]
        }
      ]
    },
    {
      "cell_type": "markdown",
      "source": [
        "\n",
        "\n",
        "---\n",
        "\n"
      ],
      "metadata": {
        "id": "r_-rudaRIgKY"
      }
    },
    {
      "cell_type": "markdown",
      "source": [
        "### **EFECTO DE LA TEMPERATURA EN LA SOLUBILIDAD**"
      ],
      "metadata": {
        "id": "TwwISTqRIiX2"
      }
    },
    {
      "cell_type": "markdown",
      "source": [
        "1. Una muestra de 3.20 g de una sal se disuelve en 9.10 g de agua para formar una disolución saturada a 25° C. ¿Cuál es la solubilidad (en g de sal/100g de H2O) de la sal?"
      ],
      "metadata": {
        "id": "KeqKkk8lIux8"
      }
    },
    {
      "cell_type": "code",
      "source": [
        "masa_sal = 3.2\n",
        "masa_agua = 9.1\n",
        "\n",
        "masa_total = masa_sal + masa_agua\n",
        "\n",
        "solubilidad = (masa_sal / masa_agua) * 100\n",
        "solubilidad_red = round(solubilidad,2)\n",
        "\n",
        "print(f'La solubilidad es de aproximadamente {solubilidad_red} g de sal por 100 g de agua')"
      ],
      "metadata": {
        "colab": {
          "base_uri": "https://localhost:8080/"
        },
        "id": "vdV1I_S4JRbC",
        "outputId": "7bf520ba-944d-4324-d884-06dc902a5ea9"
      },
      "execution_count": 5,
      "outputs": [
        {
          "output_type": "stream",
          "name": "stdout",
          "text": [
            "La solubilidad es de aproximadamente 35.16 g de sal por 100 g de agua\n"
          ]
        }
      ]
    }
  ]
}