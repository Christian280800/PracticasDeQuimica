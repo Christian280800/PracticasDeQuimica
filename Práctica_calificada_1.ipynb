{
  "nbformat": 4,
  "nbformat_minor": 0,
  "metadata": {
    "colab": {
      "provenance": [],
      "include_colab_link": true
    },
    "kernelspec": {
      "name": "python3",
      "display_name": "Python 3"
    },
    "language_info": {
      "name": "python"
    },
    "widgets": {
      "application/vnd.jupyter.widget-state+json": {
        "c85c964525764077853f766ceeae0882": {
          "model_module": "faerun-notebook",
          "model_name": "SmilesDrawerModel",
          "model_module_version": "^0.1.5",
          "state": {
            "_dom_classes": [],
            "_model_module": "faerun-notebook",
            "_model_module_version": "^0.1.5",
            "_model_name": "SmilesDrawerModel",
            "_view_count": null,
            "_view_module": "faerun-notebook",
            "_view_module_version": "^0.1.5",
            "_view_name": "SmilesDrawerView",
            "background": "#1e1e1e",
            "border": true,
            "layout": "IPY_MODEL_8ce570900a164b8492e0a987f05d38e4",
            "options": {
              "scale": 1.25
            },
            "output": "svg",
            "theme": "dark",
            "value": [
              [
                "Rxn",
                "C(C1C(C(C(C(O1)O)O)O)O)O.O=O>>C(=O)=O.O"
              ]
            ]
          }
        },
        "8ce570900a164b8492e0a987f05d38e4": {
          "model_module": "@jupyter-widgets/base",
          "model_name": "LayoutModel",
          "model_module_version": "1.2.0",
          "state": {
            "_model_module": "@jupyter-widgets/base",
            "_model_module_version": "1.2.0",
            "_model_name": "LayoutModel",
            "_view_count": null,
            "_view_module": "@jupyter-widgets/base",
            "_view_module_version": "1.2.0",
            "_view_name": "LayoutView",
            "align_content": null,
            "align_items": null,
            "align_self": null,
            "border": null,
            "bottom": null,
            "display": null,
            "flex": null,
            "flex_flow": null,
            "grid_area": null,
            "grid_auto_columns": null,
            "grid_auto_flow": null,
            "grid_auto_rows": null,
            "grid_column": null,
            "grid_gap": null,
            "grid_row": null,
            "grid_template_areas": null,
            "grid_template_columns": null,
            "grid_template_rows": null,
            "height": null,
            "justify_content": null,
            "justify_items": null,
            "left": null,
            "margin": null,
            "max_height": null,
            "max_width": null,
            "min_height": null,
            "min_width": null,
            "object_fit": null,
            "object_position": null,
            "order": null,
            "overflow": null,
            "overflow_x": null,
            "overflow_y": null,
            "padding": null,
            "right": null,
            "top": null,
            "visibility": null,
            "width": null
          }
        }
      }
    }
  },
  "cells": [
    {
      "cell_type": "markdown",
      "metadata": {
        "id": "view-in-github",
        "colab_type": "text"
      },
      "source": [
        "<a href=\"https://colab.research.google.com/github/Christian280800/PracticasDeQuimica/blob/main/Pr%C3%A1ctica_calificada_1.ipynb\" target=\"_parent\"><img src=\"https://colab.research.google.com/assets/colab-badge.svg\" alt=\"Open In Colab\"/></a>"
      ]
    },
    {
      "cell_type": "markdown",
      "source": [
        "# Pregunta 1\n",
        "----"
      ],
      "metadata": {
        "id": "5VdIPQgcw0QH"
      }
    },
    {
      "cell_type": "code",
      "execution_count": 1,
      "metadata": {
        "colab": {
          "base_uri": "https://localhost:8080/"
        },
        "id": "b6PLfss94Rgk",
        "outputId": "37ad432d-58d4-4407-ec4a-7c562f459ca4"
      },
      "outputs": [
        {
          "output_type": "stream",
          "name": "stdout",
          "text": [
            "La version que se esta utilizando es:  ['Python 3.10.12']\n",
            "\n",
            "\n",
            "Las palabras reservadas son: \n",
            "\n",
            "Here is a list of the Python keywords.  Enter any keyword to get more help.\n",
            "\n",
            "False               class               from                or\n",
            "None                continue            global              pass\n",
            "True                def                 if                  raise\n",
            "and                 del                 import              return\n",
            "as                  elif                in                  try\n",
            "assert              else                is                  while\n",
            "async               except              lambda              with\n",
            "await               finally             nonlocal            yield\n",
            "break               for                 not                 \n",
            "\n"
          ]
        }
      ],
      "source": [
        "#1.1\n",
        "# Imprime la versión de python que usas y las palabras reservadas de python para esa versión.\n",
        "version = !python --version\n",
        "print(\"La version que se esta utilizando es: \", version)\n",
        "\n",
        "print(\"\\n\")\n",
        "print(\"Las palabras reservadas son: \")\n",
        "help(\"keywords\")\n"
      ]
    },
    {
      "cell_type": "code",
      "source": [
        "#1.2\n",
        "# Crea una matriz de 3x3 e imprime la suma de los elementos en su diagonal (traza).\n",
        "A=[[78,15,68],[94,15,32],[4,18,46]]\n",
        "suma_diagonal=0\n",
        "for i in range(len(A)):\n",
        "  suma_diagonal= suma_diagonal + A[i][i]\n",
        "\n",
        "for fila in A:\n",
        "  print(fila)\n",
        "print(\"La suma es: \", suma_diagonal)\n",
        "\n"
      ],
      "metadata": {
        "colab": {
          "base_uri": "https://localhost:8080/"
        },
        "id": "hT7e1mFF87K9",
        "outputId": "3807e123-9a90-4458-b0ab-81f5fdd23f38"
      },
      "execution_count": 3,
      "outputs": [
        {
          "output_type": "stream",
          "name": "stdout",
          "text": [
            "[78, 15, 68]\n",
            "[94, 15, 32]\n",
            "[4, 18, 46]\n",
            "La suma es:  139\n"
          ]
        }
      ]
    },
    {
      "cell_type": "code",
      "source": [
        "#1.3\n",
        "# Guarda como variable la masa atómica de los elementos C, H y O, e imprime la masa molecular del etanol.\n",
        "masa_hidrogeno = 1.00784\n",
        "masa_oxigeno = 15.999    # menor cantidad de decimales\n",
        "masa_carbono = 12.011\n",
        "masa_etanol = masa_carbono*2+masa_oxigeno+masa_hidrogeno*6\n",
        "print(\"La masa molecular del etanol es: \",round(masa_etanol,3)) #Redondeando el Etanol a 3 decimales\n"
      ],
      "metadata": {
        "colab": {
          "base_uri": "https://localhost:8080/"
        },
        "id": "qVaaoBdM-Hyt",
        "outputId": "c3b526c1-b749-4e51-83d8-bf26168c1d43"
      },
      "execution_count": 4,
      "outputs": [
        {
          "output_type": "stream",
          "name": "stdout",
          "text": [
            "La masa molecular del etanol es:  46.068\n"
          ]
        }
      ]
    },
    {
      "cell_type": "code",
      "source": [
        "#1.4\n",
        "# Busca la temperatura de fusión en Celsius de 5 metales y guárdalos en una lista. Imprime las temperaturas en Kelvin\n",
        "metales = [\"plata\",\"oro\",\"estano\",\"hierro\",\"vanadio\"]\n",
        "temp_met_cel = [962, 1064,232,1538,1910]\n",
        "temp_met_kel = []\n",
        "\n",
        "for i in range(5):\n",
        "    kelvin = temp_met_cel[i] + 273\n",
        "    temp_met_kel.append(kelvin)  #funcion .append() agrega los elementos a mi lista vacia :3\n",
        "    print(\"El metal\",metales[i],\"tiene una temperatura de fusion de \",temp_met_kel[i],\"K\")"
      ],
      "metadata": {
        "colab": {
          "base_uri": "https://localhost:8080/"
        },
        "outputId": "c017f123-6edc-49bc-a5be-a76533889690",
        "id": "WG9ZlZTYJBp5"
      },
      "execution_count": null,
      "outputs": [
        {
          "output_type": "stream",
          "name": "stdout",
          "text": [
            "El metal plata tiene una temperatura de fusion de  1235 K\n",
            "El metal oro tiene una temperatura de fusion de  1337 K\n",
            "El metal estano tiene una temperatura de fusion de  505 K\n",
            "El metal hierro tiene una temperatura de fusion de  1811 K\n",
            "El metal vanadio tiene una temperatura de fusion de  2183 K\n"
          ]
        }
      ]
    },
    {
      "cell_type": "markdown",
      "source": [
        "# Pregunta 2\n",
        "----\n",
        "Escribe un programa que lea repetidamente elementos químicos en español hasta que el usuario introduzca “fin”.\n",
        "Una vez se haya introducido “fin”, muestra por pantalla (o sea imprime) el total de elementos ingresados.\n",
        "Si el usuario introduce cualquier otra cosa que no sea un elemento químico, detecta su fallo usando try y except,\n",
        "muestra un mensaje de error y pasa al siguiente elemento."
      ],
      "metadata": {
        "id": "_9sEgPcWVMDi"
      }
    },
    {
      "cell_type": "code",
      "source": [
        "elementos_quim = [\n",
        "    \"hidrógeno\", \"helio\", \"litio\", \"berilio\", \"boro\", \"carbono\", \"nitrógeno\", \"oxígeno\", \"flúor\", \"neón\",\n",
        "    \"sodio\", \"magnesio\", \"aluminio\", \"silicio\", \"fósforo\", \"azufre\", \"cloro\", \"argón\", \"potasio\", \"calcio\",\n",
        "    \"escandio\", \"titanio\", \"vanadio\", \"cromo\", \"manganeso\", \"hierro\", \"cobalto\", \"níquel\", \"cobre\", \"zinc\",\n",
        "    \"galio\", \"germanio\", \"arsénico\", \"selenio\", \"bromo\", \"kriptón\", \"rubidio\", \"estroncio\", \"itrio\", \"circonio\",\n",
        "    \"niobio\", \"molibdeno\", \"tecnecio\", \"ruteno\", \"rodio\", \"paladio\", \"plata\", \"cadmio\", \"indio\", \"estaño\",\n",
        "    \"antimonio\", \"telurio\", \"yodo\", \"xenón\", \"cesio\", \"bario\", \"lantano\", \"cerio\", \"praseodimio\", \"neodimio\",\n",
        "    \"prometio\", \"samario\", \"europio\", \"gadolinio\", \"terbio\", \"disprosio\", \"holmio\", \"erbio\", \"tulio\", \"iterbio\",\n",
        "    \"lutecio\", \"hafnio\", \"tantalio\", \"wolframio\", \"renio\", \"osmio\", \"iridio\", \"platino\", \"oro\", \"mercurio\",\n",
        "    \"talio\", \"plomo\", \"bismuto\", \"polonio\", \"astato\", \"radón\", \"francio\", \"radio\", \"actinio\", \"torio\",\n",
        "    \"protactinio\", \"uranio\", \"neptunio\", \"plutonio\", \"americio\", \"curio\", \"berkelio\", \"californio\", \"einstenio\",\n",
        "    \"fermio\", \"mendelevio\", \"nobelio\", \"laurencio\", \"rutherfordio\", \"dubnio\", \"seaborgio\", \"bohrio\", \"hassio\",\n",
        "    \"meitnerio\", \"darmstadtio\", \"roentgenio\", \"copernicio\", \"nihonio\", \"flerovio\", \"moscovio\", \"Livermorio\",\n",
        "    \"tennessino\", \"oganesson\"]\n",
        "lista_usuario= [ ]\n",
        "while True:\n",
        "        entrada = input(\"Ingrese un elemento químico (o 'fin' para terminar): \")\n",
        "        if entrada == \"fin\":\n",
        "            break\n",
        "        try:\n",
        "            DATO= str(entrada)  #asegurandonos que todo los datos ingresados en el input sea de tipo string\n",
        "            if(DATO in elementos_quim):\n",
        "                lista_usuario.append(DATO)\n",
        "            else:\n",
        "              print(\"elemento no encontrado\")\n",
        "        except:\n",
        "            print(\"DEBE SER CADENA\")  # observacion: todos los datos ingresados en el input ya son cadena(string), por defecto.\n",
        "\n",
        "print(\"total de elementos ingresados: \",len(lista_usuario))\n"
      ],
      "metadata": {
        "colab": {
          "base_uri": "https://localhost:8080/"
        },
        "id": "ZCLZVpWwVRa6",
        "outputId": "40b9d9ae-8327-458d-82f7-6c7ee94fe45c"
      },
      "execution_count": 5,
      "outputs": [
        {
          "output_type": "stream",
          "name": "stdout",
          "text": [
            "Ingrese un elemento químico (o 'fin' para terminar): vanadio\n",
            "Ingrese un elemento químico (o 'fin' para terminar): hidrogeno\n",
            "elemento no encontrado\n",
            "Ingrese un elemento químico (o 'fin' para terminar): hidrógeno\n",
            "Ingrese un elemento químico (o 'fin' para terminar): fin\n",
            "total de elementos ingresados:  2\n"
          ]
        }
      ]
    },
    {
      "cell_type": "markdown",
      "source": [
        "# Pregunta 3: CONSERVACION DE LA MASA (4 puntos)\n",
        "-----"
      ],
      "metadata": {
        "id": "M7z63YU23YSy"
      }
    },
    {
      "cell_type": "markdown",
      "source": [
        "## Codigo necesario para generar la imagen"
      ],
      "metadata": {
        "id": "81GVbuzG4euQ"
      }
    },
    {
      "cell_type": "code",
      "source": [
        "!pip install faerun-notebook==0.1.5b0\n",
        "\n",
        "import ipywidgets as widgets\n",
        "from faerun_notebook import SmilesDrawer\n",
        "from google.colab import output\n",
        "output.enable_custom_widget_manager()"
      ],
      "metadata": {
        "id": "3s0_Jt-q3dXa"
      },
      "execution_count": null,
      "outputs": []
    },
    {
      "cell_type": "markdown",
      "source": [
        "## Reacccion Quimica\n",
        "Demuestra cómo se cumple la conservación de la masa en la siguiente reacción química. Sugerencia: hacer un balance estequiométrico y luego emplear la masa molecular de reactivos y productos."
      ],
      "metadata": {
        "id": "VXpTNtYf4l5g"
      }
    },
    {
      "cell_type": "code",
      "source": [
        "SmilesDrawer(value=[(\"Rxn\", \"C(C1C(C(C(C(O1)O)O)O)O)O.O=O>>C(=O)=O.O\")], theme='dark', background=\"#1e1e1e\", options={'scale': 1.25})"
      ],
      "metadata": {
        "colab": {
          "base_uri": "https://localhost:8080/",
          "height": 290,
          "referenced_widgets": [
            "c85c964525764077853f766ceeae0882",
            "8ce570900a164b8492e0a987f05d38e4"
          ]
        },
        "id": "YC_w2oZH4r1n",
        "outputId": "efaeab4d-1fae-4e4f-95da-1212ed4e9911"
      },
      "execution_count": null,
      "outputs": [
        {
          "output_type": "display_data",
          "data": {
            "text/plain": [
              "SmilesDrawer(background='#1e1e1e', options={'scale': 1.25}, theme='dark', value=[('Rxn', 'C(C1C(C(C(C(O1)O)O)O…"
            ],
            "application/vnd.jupyter.widget-view+json": {
              "version_major": 2,
              "version_minor": 0,
              "model_id": "c85c964525764077853f766ceeae0882"
            }
          },
          "metadata": {
            "application/vnd.jupyter.widget-view+json": {
              "colab": {
                "custom_widget_manager": {
                  "url": "https://ssl.gstatic.com/colaboratory-static/widgets/colab-cdn-widget-manager/b3e629b1971e1542/manager.min.js"
                }
              }
            }
          }
        }
      ]
    },
    {
      "cell_type": "code",
      "source": [
        "!pip install  chempy  # Libreria necesaria para la celda de codigo contigua."
      ],
      "metadata": {
        "id": "aPTvUnWhCa5v"
      },
      "execution_count": null,
      "outputs": []
    },
    {
      "cell_type": "code",
      "source": [
        "# ecuacion a balancear :   C6H12O6 + O2 => CO2 + H2O\n",
        "print(\" C6H12O6 + O2 => CO2 + H2O\",\"----> ECUACION A BALANCEAR\",\"\\n\")\n",
        "from chempy import balance_stoichiometry  #llamando a la funcion necesaria para este problema\n",
        "reactantes,productos= balance_stoichiometry({'C6H12O6','O2'},{'CO2','H2O'})\n",
        "print(\"COEFICIENTES DE LOS REACTANTES:\\n\",reactantes)\n",
        "print(\"COEFICIENTES DE LOS PRODUCTOS:\\n\",productos)"
      ],
      "metadata": {
        "colab": {
          "base_uri": "https://localhost:8080/"
        },
        "id": "XZs852se5L9D",
        "outputId": "fb627e64-f271-4898-d6bc-cd7980a5f394"
      },
      "execution_count": null,
      "outputs": [
        {
          "output_type": "stream",
          "name": "stdout",
          "text": [
            " C6H12O6 + O2 => CO2 + H2O ----> ECUACION A BALANCEAR \n",
            "\n",
            "COEFICIENTES DE LOS REACTANTES:\n",
            " OrderedDict([('C6H12O6', 1), ('O2', 6)])\n",
            "COEFICIENTES DE LOS PRODUCTOS:\n",
            " OrderedDict([('CO2', 6), ('H2O', 6)])\n"
          ]
        }
      ]
    },
    {
      "cell_type": "markdown",
      "source": [
        "Quedaría....\n",
        "\n",
        " **1**C6H12O6 + **6**O2 => **6**CO2 + **6**H2O"
      ],
      "metadata": {
        "id": "Nt7BTdh0MH9I"
      }
    },
    {
      "cell_type": "code",
      "source": [
        "# Demostracion de correcto balance estequiométrico traduciendonse en masas iguales en reactantes y productos.\n",
        "masa_hidrogeno = 1.007\n",
        "masa_oxigeno = 15.999\n",
        "masa_carbono = 12.011\n",
        "#REACTANTES BALANCEADOS\n",
        "m_C6H12O6 = (masa_carbono*6+masa_hidrogeno*12+masa_oxigeno*6)*1\n",
        "m_O2 = (masa_oxigeno*2)*6\n",
        "#PRODUCTOS BALANCEADOS\n",
        "m_CO2 = (masa_carbono+masa_oxigeno*2)*6\n",
        "m_H2O = (masa_hidrogeno*2+masa_oxigeno)*6\n",
        "\n",
        "react = round(m_C6H12O6+m_O2,2)\n",
        "product = round(m_CO2 + m_H2O,2)\n",
        "if react == product:\n",
        "  print(\"Se demuestra un correcto balanceo estequiometrico\")\n",
        "else:\n",
        "  print(\"No existe un correcto balanceo estequiometrico\")\n",
        "print(\"La masa de los reactivos es: \", react)\n",
        "print(\"La masa de los productos es: \", product)\n"
      ],
      "metadata": {
        "id": "FL84MBDHDylL",
        "colab": {
          "base_uri": "https://localhost:8080/"
        },
        "outputId": "368f56ce-29bb-47c4-90dc-1f7c20b227f1"
      },
      "execution_count": null,
      "outputs": [
        {
          "output_type": "stream",
          "name": "stdout",
          "text": [
            "Se demuestra un correcto balanceo estequiometrico\n",
            "La masa de los reactivos es:  372.13\n",
            "La masa de los productos es:  372.13\n"
          ]
        }
      ]
    },
    {
      "cell_type": "markdown",
      "source": [
        "# Pregunta 4 : Notacion cientifica (4 puntos)\n",
        "\n",
        "---\n",
        "Imprime las siguientes operaciones según la notación científica:\n",
        "\n",
        "(1) $1.321 \\times 10^{-4} + 8.5 \\times 10^{-2}$ *menor numero de decimales=1*\n",
        "\n",
        "(2) $1.71 \\times 10^{3} - 2.01 \\times 10^{2}\\$  *menor numero de decimales = 2*\n",
        "\n",
        "(3) $(7.4 \\times 10^5)(7.2 \\times 10^4)$   cifras significativas =2\n",
        "\n",
        "(4) $(7.4 \\times 10^5)/(7.2 \\times 10^4)$  *cifras significativas =2*\n"
      ],
      "metadata": {
        "id": "DuCUZadd41xh"
      }
    },
    {
      "cell_type": "code",
      "source": [
        "#SUMAS y DIFERENCIAS\n",
        "print(\"(1)\",round((1.321*(10**-2) + 8.5),2),  \"* 10^-2\")\n",
        "print(\"(2)\", round((1.71 - 2.01*(10**-1)),2) ,\"* 10^3\")\n",
        "#MULTIPLICACIONES Y DIVISIONES\n",
        "# (3)\n",
        "multiplicacion=7.4*7.2\n",
        "print(\"(3)\",multiplicacion,\"x 10^9\")\n",
        "# (4)\n",
        "division=7.4/7.2\n",
        "print(\"(4)\",division,\"x 10\")"
      ],
      "metadata": {
        "id": "4jPEH2354_gL",
        "colab": {
          "base_uri": "https://localhost:8080/"
        },
        "outputId": "050db62d-4ebb-40f6-bdda-c357a7c270ac"
      },
      "execution_count": null,
      "outputs": [
        {
          "output_type": "stream",
          "name": "stdout",
          "text": [
            "(1) 8.51 * 10^-2\n",
            "(2) 1.51 * 10^3\n",
            "(3) 53.28 x 10^9\n",
            "(4) 1.027777777777778 x 10\n"
          ]
        }
      ]
    },
    {
      "cell_type": "code",
      "source": [
        "# APLICANDO CIFRAS SIGNIFICATIVAS A (3) y (4)\n",
        "print(\"Aplicando cifras significativas y notación científica a (3) y (4)\")\n",
        "#(3)\n",
        "multiplicacion = round(multiplicacion /10, 1)\n",
        "print(\"(3)\", multiplicacion, \"x 10^10\")\n",
        "#(4)\n",
        "division=round(division,1)\n",
        "print(\"(4)\", division, \"x 10\")\n",
        "\n"
      ],
      "metadata": {
        "colab": {
          "base_uri": "https://localhost:8080/"
        },
        "id": "R1GQnwU4CeAq",
        "outputId": "59454689-97e8-4161-b131-3da90df585b4"
      },
      "execution_count": null,
      "outputs": [
        {
          "output_type": "stream",
          "name": "stdout",
          "text": [
            "Aplicando cifras significativas y notación científica a (3) y (4)\n",
            "(3) 5.3 x 10^10\n",
            "(4) 1.0 x 10\n"
          ]
        }
      ]
    },
    {
      "cell_type": "markdown",
      "source": [
        "# Pregunta 5\n",
        "Artículo: https://bit.ly/3surZ1W Leer el siguiente artículo y explica cómo es aplicado el método científico. Emplea como máximo 300 palabras."
      ],
      "metadata": {
        "id": "I8udRBW5HE6j"
      }
    },
    {
      "cell_type": "markdown",
      "source": [
        "El artículo describe cómo un equipo de investigadores ha resuelto el misterio de LK-99, un material que se creía que era un superconductor. Los investigadores descubrieron que el material no es un superconductor, pero aún así exhibe propiedades interesantes que han capturado la atención de la comunidad científica. El artículo también describe cómo los investigadores llegaron a esta conclusión, incluyendo pruebas y experimentos realizados en diferentes muestras del material."
      ],
      "metadata": {
        "id": "imbx-DgBHPX_"
      }
    }
  ]
}